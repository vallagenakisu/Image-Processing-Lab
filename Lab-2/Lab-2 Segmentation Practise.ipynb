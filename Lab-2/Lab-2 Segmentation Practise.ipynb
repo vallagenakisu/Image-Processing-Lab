{
 "cells": [
  {
   "cell_type": "code",
   "execution_count": 1,
   "id": "35968aac",
   "metadata": {},
   "outputs": [],
   "source": [
    "import pandas as pd \n",
    "import matplotlib.pyplot as plt \n",
    "import cv2\n",
    "import numpy as np"
   ]
  },
  {
   "cell_type": "code",
   "execution_count": null,
   "id": "dce41b8d",
   "metadata": {},
   "outputs": [],
   "source": [
    "def convolve(image : np.array ,  kernel : np.array) -> np.array:\n",
    "    kernel = np.flip(kernel)\n",
    "    ih, iw = image.shape\n",
    "    kh , kw = kernel.shape\n",
    "    border_size = kh//2\n",
    "    img_bordered = cv2.copyMakeBorder(image, border_size, border_size, border_size, border_size, cv2.BORDER_CONSTANT)\n",
    "    bh,bw = img_bordered.shape\n",
    "    result = np.zeros((ih, iw), dtype=np.float32)\n",
    "    for i in range(ih):\n",
    "        for j in range(iw):\n",
    "            region = img_bordered[i:i+kh ,j:j+kw]\n",
    "            mul = np.multiply(region,kernel)\n",
    "            val = np.sum(mul)\n",
    "            result[i,j] = val \n",
    "            # rh , rw = region.shape \n",
    "            # sum = 0 \n",
    "            # for k in range(rh):\n",
    "            #     for l in range(rw):\n",
    "            #         mul = region[k,l] * kernel[k,l]\n",
    "            #         sum = sum + mul\n",
    "            # result[i,j] = sum \n",
    "    return result "
   ]
  }
 ],
 "metadata": {
  "kernelspec": {
   "display_name": "Python 3",
   "language": "python",
   "name": "python3"
  },
  "language_info": {
   "codemirror_mode": {
    "name": "ipython",
    "version": 3
   },
   "file_extension": ".py",
   "mimetype": "text/x-python",
   "name": "python",
   "nbconvert_exporter": "python",
   "pygments_lexer": "ipython3",
   "version": "3.13.1"
  }
 },
 "nbformat": 4,
 "nbformat_minor": 5
}
