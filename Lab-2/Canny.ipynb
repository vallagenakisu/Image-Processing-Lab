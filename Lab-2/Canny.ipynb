{
 "cells": [
  {
   "cell_type": "code",
   "execution_count": 33,
   "id": "263dc685",
   "metadata": {},
   "outputs": [],
   "source": [
    "import numpy as np\n",
    "import cv2\n",
    "import matplotlib.pyplot as plt\n",
    "import image_lib as imlib"
   ]
  },
  {
   "cell_type": "code",
   "execution_count": 34,
   "id": "6f4fbefc",
   "metadata": {},
   "outputs": [],
   "source": [
    "def show_image(image, title='Image'):\n",
    "   cv2.imshow(title, image)\n",
    "   cv2.waitKey(0)\n",
    "   cv2.destroyAllWindows()"
   ]
  },
  {
   "cell_type": "code",
   "execution_count": 35,
   "id": "05ec97fb",
   "metadata": {},
   "outputs": [],
   "source": [
    "image = cv2.imread('Lena.jpg')\n",
    "blur_image = cv2.GaussianBlur(image, (5, 5), 1.67)\n",
    "show_image(image, 'Original Image')\n",
    "show_image(blur_image, 'Blurred Image')\n",
    "\n"
   ]
  },
  {
   "cell_type": "code",
   "execution_count": 28,
   "id": "88219609",
   "metadata": {},
   "outputs": [],
   "source": [
    "# Sobel derivative in X direction\n",
    "sobel_x = cv2.Sobel(blur_image , cv2.CV_64F,1,0, ksize=3)\n",
    "# Sobel derivative in Y direction\n",
    "sobel_y = cv2.Sobel(blur_image , cv2.CV_64F,0,1, ksize=3)\n",
    "show_image(np.uint8(np.abs(sobel_x)), 'Sobel X')\n",
    "show_image(np.uint8(np.abs(sobel_y)), 'Sobel Y')\n",
    "\n",
    "magnitude = np.sqrt(sobel_x**2 + sobel_y**2)\n",
    "orientation = np.arctan2(sobel_y, sobel_x) * (180 / np.pi)  # in degrees\n",
    "show_image(np.uint8(np.abs(magnitude)), 'Gradient Magnitude')"
   ]
  },
  {
   "cell_type": "code",
   "execution_count": 21,
   "id": "d522df7b",
   "metadata": {},
   "outputs": [],
   "source": [
    "laplacian = cv2.Laplacian(blur_image, cv2.CV_64F, ksize=3)\n",
    "show_image(np.uint8(np.abs(laplacian)), 'Laplacian (2nd Derivative)')"
   ]
  },
  {
   "cell_type": "code",
   "execution_count": 50,
   "id": "eaa44871",
   "metadata": {},
   "outputs": [
    {
     "name": "stdout",
     "output_type": "stream",
     "text": [
      "(512, 512)\n"
     ]
    }
   ],
   "source": [
    "def laplacian_of_gaussian(image, sigma=1.0):\n",
    "    gray_image = cv2.cvtColor(image , cv2.COLOR_BGR2GRAY)\n",
    "    kernel = imlib.Gaussian_Sharpenning_kernel(7,sigma)\n",
    "    log_img = imlib.convolve(gray_image,kernel)\n",
    "    return log_img\n",
    "\n",
    "def zero_crossing(log_img):\n",
    "    zc = np.zeros(log_img.shape, dtype=np.uint8)\n",
    "    h,w = log_img.shape\n",
    "    for i in range(1, h-2):\n",
    "        for j in range(1, w-2):\n",
    "            patch = log_img[i-1:i+2, j-1:j+2]\n",
    "            local_std = np.std(patch)\n",
    "            if np.max(patch) > 0 and np.min(patch) < 0:\n",
    "                zc[i, j] = np.max(patch)\n",
    "                \n",
    "    return zc\n",
    "def local_variance2(image):\n",
    "    variance = np.zeros_like(image, dtype=np.float32)\n",
    "\n",
    "    h,w = image.shape \n",
    "    for i in range (1,h-2):\n",
    "        for j in range(1,w-2):\n",
    "            region = image[i-1:i+2, j-1:j+2]\n",
    "            std = np.std(region)\n",
    "            variance[i,j] = std**2\n",
    "    return variance\n",
    "def local_variance(image, ksize=5):\n",
    "    mean = cv2.blur(image, (ksize, ksize))\n",
    "    mean_sq = cv2.blur(image**2, (ksize, ksize))\n",
    "    variance = mean_sq - mean**2\n",
    "    return variance\n",
    "\n",
    "def robust_laplacian_edge_detector(image, sigma=1.0, var_thresh=100):\n",
    "    log_img = laplacian_of_gaussian(image, sigma)\n",
    "    zc_img = zero_crossing(log_img)\n",
    "    imlib.show_image(zc_img, 'Zero Crossing Image')\n",
    "    gray = cv2.cvtColor(image, cv2.COLOR_BGR2GRAY)\n",
    "    variance = local_variance2(gray)\n",
    "    print(variance.shape)\n",
    "    edge_img = np.zeros_like(zc_img)\n",
    "    edge_img[(zc_img != 0) & (variance > var_thresh)] = 255\n",
    "    return edge_img\n",
    "\n",
    "edge_points = robust_laplacian_edge_detector(image, sigma=1, var_thresh=60)\n",
    "show_image(edge_points, 'Robust Laplacian Edge Detector')"
   ]
  }
 ],
 "metadata": {
  "kernelspec": {
   "display_name": "Python 3",
   "language": "python",
   "name": "python3"
  },
  "language_info": {
   "codemirror_mode": {
    "name": "ipython",
    "version": 3
   },
   "file_extension": ".py",
   "mimetype": "text/x-python",
   "name": "python",
   "nbconvert_exporter": "python",
   "pygments_lexer": "ipython3",
   "version": "3.13.1"
  }
 },
 "nbformat": 4,
 "nbformat_minor": 5
}
